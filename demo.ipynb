{
 "cells": [
  {
   "cell_type": "code",
   "execution_count": 1,
   "metadata": {},
   "outputs": [],
   "source": [
    "import sample_tests.aiexam as aiexam"
   ]
  },
  {
   "cell_type": "code",
   "execution_count": 2,
   "metadata": {},
   "outputs": [],
   "source": [
    "aie = aiexam.ai_exam"
   ]
  },
  {
   "cell_type": "code",
   "execution_count": 3,
   "metadata": {},
   "outputs": [
    {
     "name": "stdout",
     "output_type": "stream",
     "text": [
      "Exam Guidelines:\n",
      "\tEvaluate based on clarity, accuracy, and depth; higher marks for more depth without loss of accuracy.\n",
      "\tProvide informative feedback on the response that will help the student improve.\n",
      "\tProvide a Grade in the range 0-100.\n",
      "Questions:\n",
      "\t1. What is AI?\n",
      "\t\tAt minimum, must address the following: AI stands for Artificial Intelligence, which is a broad field of computer science encompassing machine learning, deep learning, expert systems, and many other techniques.\n",
      "\t2. Explain deep learning.\n",
      "\t\tAt minimum, must address the following: Deep learning is a subset of machine learning which emphasizes the use of neural networks with many layers; since deep learning is a subset of machine learning, it is also a subset of AI.\n"
     ]
    }
   ],
   "source": [
    "aie.summarize_exam()"
   ]
  },
  {
   "cell_type": "code",
   "execution_count": 4,
   "metadata": {},
   "outputs": [],
   "source": [
    "from llmtest import Llm, LLMTest"
   ]
  },
  {
   "cell_type": "code",
   "execution_count": 5,
   "metadata": {},
   "outputs": [],
   "source": [
    "student_llm = Llm()  # using default values\n",
    "ta_llm = Llm()      # using default values"
   ]
  },
  {
   "cell_type": "code",
   "execution_count": 6,
   "metadata": {},
   "outputs": [
    {
     "data": {
      "text/plain": [
       "'gpt-4-1106-preview'"
      ]
     },
     "execution_count": 6,
     "metadata": {},
     "output_type": "execute_result"
    }
   ],
   "source": [
    "student_llm._model_identifier"
   ]
  },
  {
   "cell_type": "code",
   "execution_count": 7,
   "metadata": {},
   "outputs": [
    {
     "name": "stdout",
     "output_type": "stream",
     "text": [
      "{'model': 'gpt-4-1106-preview', 'messages': [{'role': 'user', 'content': 'who are you?'}]}\n"
     ]
    },
    {
     "data": {
      "text/plain": [
       "\"I am an AI developed by OpenAI, designed to interact with users and provide information, answer questions, and engage in conversation on a wide variety of topics. I'm here to assist with any queries you might have! How can I help you today?\""
      ]
     },
     "execution_count": 7,
     "metadata": {},
     "output_type": "execute_result"
    }
   ],
   "source": [
    "student_llm.prompt(\"who are you?\")"
   ]
  },
  {
   "cell_type": "code",
   "execution_count": 9,
   "metadata": {},
   "outputs": [],
   "source": [
    "ait = LLMTest(student_llm, ta_llm, aie)"
   ]
  },
  {
   "cell_type": "code",
   "execution_count": 12,
   "metadata": {},
   "outputs": [
    {
     "name": "stdout",
     "output_type": "stream",
     "text": [
      "{'model': 'gpt-4-1106-preview', 'messages': [{'role': 'user', 'content': 'What is AI?'}]}\n",
      "{'model': 'gpt-4-1106-preview', 'messages': [{'role': 'user', 'content': 'Explain deep learning.'}]}\n",
      "{'model': 'gpt-4-1106-preview', 'messages': [{'role': 'user', 'content': \"Question: What is AI?\\nResponse: Artificial Intelligence (AI) refers to the simulation of human intelligence in machines that are programmed to think and act like humans. The term can also be applied to any machine that exhibits traits associated with a human mind, such as learning and problem-solving.\\n\\nThe primary goal of AI systems is to perform tasks that would typically require human intelligence, such as visual perception, speech recognition, decision-making, and language translation. AI is an interdisciplinary science with multiple approaches, but advancements in machine learning and deep learning are creating a paradigm shift in virtually every sector of the tech industry.\\n\\nThere are several types of AI, categorized as follows:\\n\\n1. Narrow or Weak AI: Systems designed to perform a specific task without the full range of human cognitive abilities. Most existing AI applications fall into this category, such as virtual assistants, image recognition software, and search engines.\\n\\n2. General or Strong AI: An AI system with generalized human cognitive abilities so that when presented with an unfamiliar task, it has the ability to find a solution without human intervention. This type of AI does not yet exist but is a common subject in science fiction.\\n\\nAI technologies continue to evolve rapidly, with new breakthroughs in algorithm design, computing power, data availability, and storage. However, the use of AI also raises ethical questions about control, privacy, security, and the future of work, among others.\\nGuidelines: ['Evaluate based on clarity, accuracy, and depth; higher marks for more depth without loss of accuracy.', 'Provide informative feedback on the response that will help the student improve.', 'Provide a Grade in the range 0-100.']\"}]}\n",
      "{'model': 'gpt-4-1106-preview', 'messages': [{'role': 'user', 'content': \"Question: Explain deep learning.\\nResponse: Deep learning is a subset of machine learning, which is itself a branch of artificial intelligence (AI). Deep learning models are inspired by the structure and function of the human brain, specifically neural networks. These models are called artificial neural networks (ANNs). \\n\\nAt their core, deep learning models work by creating representations of data through a layered and hierarchical architecture. Each layer in the network extracts and transforms features from the input data, with early layers learning simple, low-level features and deeper layers learning more abstract, high-level features. These features are then used to perform tasks such as classification, regression, object detection, natural language processing, and more.\\n\\nHere are some key characteristics and concepts of deep learning:\\n\\n1. **Layers**: Each deep learning neural network consists of an input layer, where the data is introduced, multiple hidden layers, where the data is processed and features are learned, and an output layer that produces the final result. These layers are composed of interconnected nodes or neurons, where each connection represents a weight that gets adjusted during learning.\\n\\n2. **Activation Functions**: These functions are applied to the output of each neuron and determine whether the neuron should be activated or not, introducing non-linearities into the model and allowing it to learn complex patterns.\\n\\n3. **Learning Process (Backpropagation and Gradient Descent)**: Deep learning models 'learn' through a process where the model's predictions are compared against the true outcomes, and the error is propagated back through the network to adjust the weights. This process is known as backpropagation. Optimization algorithms like gradient descent are used to minimize the error by making small adjustments to the weights.\\n\\n4. **Loss Function**: A function that measures the difference between the predicted output and the actual output. Training a deep learning model involves minimizing this loss function.\\n\\n5. **Convolutional Neural Networks (CNNs)**: A type of deep neural network particularly effective for image processing and computer vision tasks. CNNs use convolutional layers to automatically and adaptively learn spatial hierarchies of features from learning image data.\\n\\n6. **Recurrent Neural Networks (RNNs)**: These networks are designed to work with sequential data and are particularly well-suited for language processing, time series analysis, etc. Long Short-Term Memory networks (LSTMs) are a type of RNN capable of learning long-term dependencies.\\n\\n7. **Regularization**: Techniques like dropout, L2 regularization, and data augmentation are used to prevent overfitting, where the model learns the training data too well and fails to generalize to new, unseen data.\\n\\n8. **Transfer Learning**: This approach involves taking a pre-trained model (usually on a large, diverse dataset) and tweaking it slightly or adding additional layers to fine-tune the model for a specific task, which can significantly reduce the data requirement and computational cost.\\n\\nDeep learning has seen a rapid rise in popularity and usage over the past decade due to the increase in computational power, the availability of large amounts of data, and advancements in neural network research. It is the technology behind many state-of-the-art AI systems, including voice assistants, self-driving cars, and personalized recommendation systems.\\nGuidelines: ['Evaluate based on clarity, accuracy, and depth; higher marks for more depth without loss of accuracy.', 'Provide informative feedback on the response that will help the student improve.', 'Provide a Grade in the range 0-100.']\"}]}\n"
     ]
    },
    {
     "data": {
      "text/plain": [
       "[Schema(Prompt='', Response='', Notes=\"Extracted notes from TA's response\", Grade=100),\n",
       " Schema(Prompt='', Response='', Notes=\"Extracted notes from TA's response\", Grade=100)]"
      ]
     },
     "execution_count": 12,
     "metadata": {},
     "output_type": "execute_result"
    }
   ],
   "source": [
    "ait.test()"
   ]
  },
  {
   "cell_type": "code",
   "execution_count": null,
   "metadata": {},
   "outputs": [],
   "source": []
  }
 ],
 "metadata": {
  "kernelspec": {
   "display_name": "base",
   "language": "python",
   "name": "python3"
  },
  "language_info": {
   "codemirror_mode": {
    "name": "ipython",
    "version": 3
   },
   "file_extension": ".py",
   "mimetype": "text/x-python",
   "name": "python",
   "nbconvert_exporter": "python",
   "pygments_lexer": "ipython3",
   "version": "3.9.7"
  },
  "orig_nbformat": 4
 },
 "nbformat": 4,
 "nbformat_minor": 2
}
