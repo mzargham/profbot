{
 "cells": [
  {
   "cell_type": "code",
   "execution_count": 1,
   "metadata": {},
   "outputs": [],
   "source": [
    "import sample_tests.aiexam as aiexam"
   ]
  },
  {
   "cell_type": "code",
   "execution_count": 2,
   "metadata": {},
   "outputs": [],
   "source": [
    "aie = aiexam.ai_exam"
   ]
  },
  {
   "cell_type": "code",
   "execution_count": 3,
   "metadata": {},
   "outputs": [
    {
     "name": "stdout",
     "output_type": "stream",
     "text": [
      "Exam Guidelines:\n",
      "\tEvaluate based on clarity, accuracy, and depth; higher marks for more depth without loss of accuracy.\n",
      "\tProvide informative feedback on the response that will help the student improve.\n",
      "\tProvide a Grade in the range 0-100.\n",
      "Questions:\n",
      "\t1. What is AI?\n",
      "\t\tAt minimum, must address the following: AI stands for Artificial Intelligence, which is a broad field of computer science encompassing machine learning, deep learning, expert systems, and many other techniques.\n",
      "\t2. Explain deep learning.\n",
      "\t\tAt minimum, must address the following: Deep learning is a subset of machine learning which emphasizes the use of neural networks with many layers; since deep learning is a subset of machine learning, it is also a subset of AI.\n"
     ]
    }
   ],
   "source": [
    "aie.summarize_exam()"
   ]
  },
  {
   "cell_type": "code",
   "execution_count": 4,
   "metadata": {},
   "outputs": [],
   "source": [
    "from llmtest import Llm, LLMTest"
   ]
  },
  {
   "cell_type": "code",
   "execution_count": 5,
   "metadata": {},
   "outputs": [],
   "source": [
    "student_llm = Llm()  # using default values\n",
    "ta_llm = Llm()      # using default values"
   ]
  },
  {
   "cell_type": "code",
   "execution_count": 6,
   "metadata": {},
   "outputs": [
    {
     "data": {
      "text/plain": [
       "'gpt-4-1106-preview'"
      ]
     },
     "execution_count": 6,
     "metadata": {},
     "output_type": "execute_result"
    }
   ],
   "source": [
    "student_llm._model_identifier"
   ]
  },
  {
   "cell_type": "code",
   "execution_count": 7,
   "metadata": {},
   "outputs": [
    {
     "name": "stdout",
     "output_type": "stream",
     "text": [
      "{'model': 'gpt-4-1106-preview', 'messages': [{'role': 'user', 'content': 'who are you?'}]}\n"
     ]
    },
    {
     "data": {
      "text/plain": [
       "\"I am an AI digital assistant designed by OpenAI, created to provide information, answer questions, and assist with a wide range of inquiries. I'm based on the GPT (Generative Pre-trained Transformer) architecture, which enables me to understand and generate human-like text based on the input I receive. How can I assist you today?\""
      ]
     },
     "execution_count": 7,
     "metadata": {},
     "output_type": "execute_result"
    }
   ],
   "source": [
    "student_llm.prompt(\"who are you?\")"
   ]
  },
  {
   "cell_type": "code",
   "execution_count": 8,
   "metadata": {},
   "outputs": [
    {
     "data": {
      "text/plain": [
       "[\"I am an AI language model created by OpenAI, known as ChatGPT. I'm designed to understand and generate human-like text based on the input I receive. My purpose is to assist users by providing information, answering questions, engaging in conversation, and helping with a wide range of topics to the best of my knowledge and abilities. How can I assist you today?\",\n",
       " \"Yes, I can help you grade exams by following your provided questions, responses, and grading guidelines. While I do not have the ability to physically mark paper, I can evaluate the given answers based on your criteria and provide you with scores or assessments for each question. Keep in mind that my capabilities may have limitations depending on the complexity of the material and the specificity of the guidelines. If the exam contains subjective essay questions, for example, I can give you an analysis of the content, but the final judgment may still require human discretion.\\n\\nTo get started, please provide me with the exam questions, student responses, and a clear set of grading guidelines or a rubric for each question. I'll do my best to grade them according to your instructions.\"]"
      ]
     },
     "execution_count": 8,
     "metadata": {},
     "output_type": "execute_result"
    }
   ],
   "source": [
    "ta_llm.prompt_sequence([\"who are you?\", \"can you grade exams if i give you the questions, the responses and the grading guidelines?\"])"
   ]
  },
  {
   "cell_type": "code",
   "execution_count": 9,
   "metadata": {},
   "outputs": [],
   "source": [
    "ait = LLMTest(student_llm, ta_llm, aie)"
   ]
  },
  {
   "cell_type": "code",
   "execution_count": 10,
   "metadata": {},
   "outputs": [],
   "source": [
    "r = ait.student_llm.prompt_sequence(ait.exam.questions)"
   ]
  },
  {
   "cell_type": "code",
   "execution_count": 11,
   "metadata": {},
   "outputs": [
    {
     "data": {
      "text/plain": [
       "['What is AI?', 'Explain deep learning.']"
      ]
     },
     "execution_count": 11,
     "metadata": {},
     "output_type": "execute_result"
    }
   ],
   "source": [
    "ait.exam.questions"
   ]
  },
  {
   "cell_type": "code",
   "execution_count": 12,
   "metadata": {},
   "outputs": [],
   "source": [
    "g = ait.ta_llm.prompt_sequence(ait.format_grading_prompt_sequence(r))"
   ]
  },
  {
   "cell_type": "code",
   "execution_count": 16,
   "metadata": {},
   "outputs": [
    {
     "data": {
      "text/plain": [
       "[\"Absolutely, I am ready to begin. Let's go through the question:response pairs and evaluate them accordingly. Please provide the first pair for assessment.\",\n",
       " \"Grade: 95\\n\\nNotes:\\nThe student has provided a comprehensive and thorough answer, clearly demonstrating an understanding of what Artificial Intelligence (AI) entails. The definition of AI was well-articulated, touching on the simulation of human intelligence processes by machines, particularly computer systems. Additionally, the student successfully explored various aspects of AI, such as learning, reasoning, problem-solving, perception, and language understanding.\\n\\nThe explanation of specific types of AI, namely Narrow AI and General AI, was particularly well done, providing clear examples that help to differentiate between the two concepts. The student also included relevant fields under AI technologies, such as machine learning, natural language processing, robotics, and computer vision, which showcases an understanding of the breadth of AI applications.\\n\\nMoreover, the response addressed the implications of AI in multiple sectors effectively and mentioned the ethical and societal concerns associated with the advancement of AI technology. This shows the student's recognition of both the positive potential of AI and the challenges it presents.\\n\\nHowever, while depth and clarity are strong points in this answer, there's a slight lack of explicit mention of other AI techniques besides machine learning, like deep learning and expert systems, which are part of the AI field as well. This minor omission is the only reason a perfect score was not achieved.\\n\\nTo improve, the student might include a brief mention of additional AI subfields and techniques to showcase an even broader understanding of the topic.\\n\\nOverall, the answer was well-formulated, insightful, and demonstrated a strong grasp of the topic at hand. Excellent work.\",\n",
       " 'Grade: 92\\n\\nNotes:\\nThe student has submitted a comprehensive and well-informed response that displays a strong understanding of deep learning and its relationship to machine learning and artificial intelligence. The answer reflects accurate knowledge of the structural components of deep learning, such as neural networks and deep neural networks, and it articulates the purpose and functionality of these components in depth. Additionally, the student\\'s explanation of the training process, including backpropagation and the requirement for considerable computational resources, is praiseworthy for its clarity and precision.\\n\\nThe thorough description of the multi-layered aspect of neural networks, key to deep learning, clearly fulfills the requirement of explaining why deep learning relies on \"many layers.\" The student\\'s inclusion of the advantages of deep learning is insightful, particularly the mention of the capability for feature extraction without manual intervention, which is a significant point of differentiation from traditional machine learning. The response also thoughtfully addresses applications of deep learning across various domains, illustrating the widespread impact of this technology.\\n\\nHowever, there\\'s a minor gap in the student\\'s mention of the challenges associated with deep learning; while the issues of data requirements, computational demand, and lack of model interpretability are correctly identified, more insight into potential solutions or current research tackling these challenges could enhance the depth further.\\n\\nTo enhance future responses, the student could also discuss recent advancements in deep learning optimization techniques or emerging architectures beyond the general description provided. This would demonstrate an up-to-date and evolving understanding of the field.\\n\\nIn summary, the student\\'s explanation is fundamentally solid, and the descriptive quality of the answer denotes a high level of understanding. The minor suggestions for improvement revolve around addressing current challenges in more depth and remaining abreast of the latest research findings to provide even more nuanced insights into the field of deep learning. Excellent effort overall.']"
      ]
     },
     "execution_count": 16,
     "metadata": {},
     "output_type": "execute_result"
    }
   ],
   "source": [
    "g"
   ]
  },
  {
   "cell_type": "code",
   "execution_count": null,
   "metadata": {},
   "outputs": [],
   "source": []
  }
 ],
 "metadata": {
  "kernelspec": {
   "display_name": "base",
   "language": "python",
   "name": "python3"
  },
  "language_info": {
   "codemirror_mode": {
    "name": "ipython",
    "version": 3
   },
   "file_extension": ".py",
   "mimetype": "text/x-python",
   "name": "python",
   "nbconvert_exporter": "python",
   "pygments_lexer": "ipython3",
   "version": "3.9.7"
  },
  "orig_nbformat": 4
 },
 "nbformat": 4,
 "nbformat_minor": 2
}
