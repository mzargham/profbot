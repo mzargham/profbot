{
 "cells": [
  {
   "cell_type": "code",
   "execution_count": 1,
   "metadata": {},
   "outputs": [],
   "source": [
    "import sample_tests.aiexam as aiexam"
   ]
  },
  {
   "cell_type": "code",
   "execution_count": 2,
   "metadata": {},
   "outputs": [],
   "source": [
    "aie = aiexam.ai_exam"
   ]
  },
  {
   "cell_type": "code",
   "execution_count": 3,
   "metadata": {},
   "outputs": [
    {
     "name": "stdout",
     "output_type": "stream",
     "text": [
      "Exam Guidelines:\n",
      "\tEvaluate based on clarity, accuracy, and depth; higher marks for more depth without loss of accuracy.\n",
      "\tProvide informative feedback on the response that will help the student improve.\n",
      "\tProvide a Grade in the range 0-100.\n",
      "Questions:\n",
      "\t1. What is AI?\n",
      "\t\tAt minimum, must address the following: AI stands for Artificial Intelligence, which is a broad field of computer science encompassing machine learning, deep learning, expert systems, and many other techniques.\n",
      "\t2. Explain deep learning.\n",
      "\t\tAt minimum, must address the following: Deep learning is a subset of machine learning which emphasizes the use of neural networks with many layers; since deep learning is a subset of machine learning, it is also a subset of AI.\n"
     ]
    }
   ],
   "source": [
    "aie.summarize_exam()"
   ]
  },
  {
   "cell_type": "code",
   "execution_count": 4,
   "metadata": {},
   "outputs": [],
   "source": [
    "from llmtest import Llm, LLMTest"
   ]
  },
  {
   "cell_type": "code",
   "execution_count": 5,
   "metadata": {},
   "outputs": [],
   "source": [
    "student_llm = Llm()  # using default values\n",
    "ta_llm = Llm()      # using default values"
   ]
  },
  {
   "cell_type": "code",
   "execution_count": 6,
   "metadata": {},
   "outputs": [
    {
     "data": {
      "text/plain": [
       "'gpt-4-1106-preview'"
      ]
     },
     "execution_count": 6,
     "metadata": {},
     "output_type": "execute_result"
    }
   ],
   "source": [
    "student_llm._model_identifier"
   ]
  },
  {
   "cell_type": "code",
   "execution_count": 7,
   "metadata": {},
   "outputs": [
    {
     "name": "stdout",
     "output_type": "stream",
     "text": [
      "{'model': 'gpt-4-1106-preview', 'messages': [{'role': 'user', 'content': 'who are you?'}]}\n"
     ]
    },
    {
     "data": {
      "text/plain": [
       "'I am an artificial intelligence (AI) developed by OpenAI, designed to interact with users and provide information, answer questions, and assist with a variety of tasks. My main goal is to be helpful and provide accurate and relevant information based on the input I receive. If you have any questions or need assistance, feel free to ask!'"
      ]
     },
     "execution_count": 7,
     "metadata": {},
     "output_type": "execute_result"
    }
   ],
   "source": [
    "student_llm.prompt(\"who are you?\")"
   ]
  },
  {
   "cell_type": "code",
   "execution_count": 8,
   "metadata": {},
   "outputs": [
    {
     "data": {
      "text/plain": [
       "['I am an AI language model developed by OpenAI, known as ChatGPT. My purpose is to assist users by answering questions, providing information, and engaging in conversation on a wide range of topics. How can I help you today?',\n",
       " \"Yes, as an AI language model, I can assist you with grading exams by comparing the responses to the provided grading guidelines or answer keys. Just provide me with the questions, the student responses, and the specific grading criteria or answer key for each question, and I can help you assess the responses.\\n\\nHowever, it's important to remember that while I can be very accurate, I'm not infallible. It's always a good idea to review the grades for accuracy, especially for subjective or open-ended questions where there may be multiple valid interpretations or answers. For straightforward, fact-based questions, my grading should align closely with the answer key or guidelines you provide.\"]"
      ]
     },
     "execution_count": 8,
     "metadata": {},
     "output_type": "execute_result"
    }
   ],
   "source": [
    "ta_llm.prompt_sequence([\"who are you?\", \"can you grade exams if i give you the questions, the responses and the grading guidelines?\"])"
   ]
  },
  {
   "cell_type": "code",
   "execution_count": 9,
   "metadata": {},
   "outputs": [],
   "source": [
    "ait = LLMTest(student_llm, ta_llm, aie)"
   ]
  },
  {
   "cell_type": "code",
   "execution_count": 10,
   "metadata": {},
   "outputs": [],
   "source": [
    "r = ait.student_llm.prompt_sequence(ait.exam.questions)"
   ]
  },
  {
   "cell_type": "code",
   "execution_count": 11,
   "metadata": {},
   "outputs": [
    {
     "data": {
      "text/plain": [
       "['What is AI?', 'Explain deep learning.']"
      ]
     },
     "execution_count": 11,
     "metadata": {},
     "output_type": "execute_result"
    }
   ],
   "source": [
    "ait.exam.questions"
   ]
  },
  {
   "cell_type": "code",
   "execution_count": 12,
   "metadata": {},
   "outputs": [],
   "source": [
    "s = ait.ta_llm.prompt_sequence(ait.format_grading_prompt_sequence(r))"
   ]
  },
  {
   "cell_type": "code",
   "execution_count": 13,
   "metadata": {},
   "outputs": [
    {
     "data": {
      "text/plain": [
       "[\"Absolutely, I'm ready to begin. Please provide the question:response pairs for evaluation.\",\n",
       " \"Grade: 95\\n\\nNotes for the Student:\\n\\nYou provided a clear and concise definition of AI (Artificial Intelligence), appropriately identifying it as the simulation of human intelligence in machines. Your response adequately covers the key areas of AI, which demonstrates a good understanding of the subject. You effectively distinguished between Narrow AI and General AI, providing concrete examples that illustrate the current applications of Narrow AI and acknowledging the theoretical nature of General AI.\\n\\nYou also brought in various subfields within AI, such as Machine Learning, Natural Language Processing, Robotics, Expert Systems, and Computer Vision, which enriches the depth of your answer. Your note about the interdisciplinary nature of AI research is particularly noteworthy, indicating a comprehensive approach to understanding the subject.\\n\\nTo further improve your response, consider adding examples of how machine learning and deep learning differ, as these are key components within AI that have unique characteristics. Additionally, while you discussed the ethical considerations, a brief mention of specific ethical questions or controversies could provide an even more nuanced view of AI's impact on society.\\n\\nOverall, your response demonstrates a strong grasp of the complexities surrounding AI and its applications, barely leaving room for improvement. Keep up the excellent work and continue to explore each subfield in further detail, as this will enhance your overall understanding of AI's potential and limitations.\",\n",
       " 'Grade: 94\\n\\nNotes for the Student:\\n\\nYour response to the question about deep learning is commendable for its thoroughness, including an accurate description of deep learning as a subset of machine learning that works with neural networks capable of unsupervised learning from unstructured or unlabeled data. You give a succinct explanation of the inspiration behind Artificial Neural Networks (ANNs) and how they draw from the design of the human brain to process information.\\n\\nBy detailing how deep learning differs from traditional machine learning in terms of algorithm structure and problem-solving capacity, you’ve successfully outlined the operational mechanisms of deep learning, such as the layers of neurons and backpropagation. The inclusion of optimization methods, like Stochastic Gradient Descent, provides further depth to your response, demonstrating a solid grasp on the subject.\\n\\nThe specific key points you mentioned about deep learning are valuable; they add richness to your answer with the discussion of layers, data representations, network architectures, and computational requirements. Additionally, pointing out the necessity of big data and the role of GPUs and TPUs in deep learning gives your answer practical context.\\n\\nTo enhance your answer even further, you might consider the following suggestions:\\n\\n- While discussing neural network architectures, you might provide a few more detailed examples of how they are applied in real-world scenarios, such as the use of CNNs in facial recognition and RNNs in machine translation.\\n- A brief comparison between deep learning and other machine learning approaches could help elucidate why deep learning is often more advantageous for certain tasks, despite being more resource-intensive.\\n- It could be beneficial to discuss some of the challenges and limitations of deep learning, such as the difficulty in interpreting model decisions (often referred to as the \"black box\" problem) and the potential for overfitting due to model complexity.\\n\\nOverall, your thorough approach indicates a strong understanding of deep learning. Keep delving into the applications and continue to stay updated with the most recent advancements, as this field is rapidly evolving. Keep up the excellent work!']"
      ]
     },
     "execution_count": 13,
     "metadata": {},
     "output_type": "execute_result"
    }
   ],
   "source": [
    "s"
   ]
  },
  {
   "cell_type": "code",
   "execution_count": 14,
   "metadata": {},
   "outputs": [
    {
     "data": {
      "text/plain": [
       "{'TA': str,\n",
       " 'Student': str,\n",
       " 'Prompt': str,\n",
       " 'Response': str,\n",
       " 'Notes': str,\n",
       " 'Grade': int}"
      ]
     },
     "execution_count": 14,
     "metadata": {},
     "output_type": "execute_result"
    }
   ],
   "source": [
    "ait.exam.schema.__annotations__"
   ]
  },
  {
   "cell_type": "code",
   "execution_count": 15,
   "metadata": {},
   "outputs": [],
   "source": [
    "g= ait.test()"
   ]
  },
  {
   "cell_type": "code",
   "execution_count": 16,
   "metadata": {},
   "outputs": [],
   "source": [
    "import pandas as pd\n",
    "\n",
    "df = pd.DataFrame(g)\n"
   ]
  },
  {
   "cell_type": "code",
   "execution_count": 17,
   "metadata": {},
   "outputs": [
    {
     "data": {
      "text/html": [
       "<div>\n",
       "<style scoped>\n",
       "    .dataframe tbody tr th:only-of-type {\n",
       "        vertical-align: middle;\n",
       "    }\n",
       "\n",
       "    .dataframe tbody tr th {\n",
       "        vertical-align: top;\n",
       "    }\n",
       "\n",
       "    .dataframe thead th {\n",
       "        text-align: right;\n",
       "    }\n",
       "</style>\n",
       "<table border=\"1\" class=\"dataframe\">\n",
       "  <thead>\n",
       "    <tr style=\"text-align: right;\">\n",
       "      <th></th>\n",
       "      <th>TA</th>\n",
       "      <th>Student</th>\n",
       "      <th>Prompt</th>\n",
       "      <th>Response</th>\n",
       "      <th>Notes</th>\n",
       "      <th>Grade</th>\n",
       "    </tr>\n",
       "  </thead>\n",
       "  <tbody>\n",
       "    <tr>\n",
       "      <th>0</th>\n",
       "      <td>gpt-4-1106-preview</td>\n",
       "      <td>gpt-4-1106-preview</td>\n",
       "      <td>What is AI?</td>\n",
       "      <td>AI stands for Artificial Intelligence, which r...</td>\n",
       "      <td>Notes for the student:\\n\\nYour response provid...</td>\n",
       "      <td>90</td>\n",
       "    </tr>\n",
       "    <tr>\n",
       "      <th>1</th>\n",
       "      <td>gpt-4-1106-preview</td>\n",
       "      <td>gpt-4-1106-preview</td>\n",
       "      <td>Explain deep learning.</td>\n",
       "      <td>Deep learning is a subset of machine learning,...</td>\n",
       "      <td>Notes for the student:\\n\\nYour response provid...</td>\n",
       "      <td>95</td>\n",
       "    </tr>\n",
       "  </tbody>\n",
       "</table>\n",
       "</div>"
      ],
      "text/plain": [
       "                   TA             Student                  Prompt  \\\n",
       "0  gpt-4-1106-preview  gpt-4-1106-preview             What is AI?   \n",
       "1  gpt-4-1106-preview  gpt-4-1106-preview  Explain deep learning.   \n",
       "\n",
       "                                            Response  \\\n",
       "0  AI stands for Artificial Intelligence, which r...   \n",
       "1  Deep learning is a subset of machine learning,...   \n",
       "\n",
       "                                               Notes  Grade  \n",
       "0  Notes for the student:\\n\\nYour response provid...     90  \n",
       "1  Notes for the student:\\n\\nYour response provid...     95  "
      ]
     },
     "execution_count": 17,
     "metadata": {},
     "output_type": "execute_result"
    }
   ],
   "source": [
    "df.head()"
   ]
  },
  {
   "cell_type": "code",
   "execution_count": 19,
   "metadata": {},
   "outputs": [
    {
     "name": "stdout",
     "output_type": "stream",
     "text": [
      "Notes for the student:\n",
      "\n",
      "Your response provides a comprehensive and accurate overview of Artificial Intelligence (AI) that demonstrates a solid understanding of the subject. You have correctly defined AI and have given a clear explanation that covers the spectrum from narrow AI, which is task-specific, to the concept of general AI, which does not yet exist. The examples you provided of AI applications are relevant and help to contextualize how AI impacts various industries and aspects of daily life.\n",
      "\n",
      "In terms of depth, you have successfully touched on several important areas of AI, including machine learning, deep learning, natural language processing, robotics, and computer vision. It's excellent that you have noted the distinction between weak and strong AI and contextualized AI technologies within the broader field of computer science. \n",
      "\n",
      "For improvement, consider including a brief mention of expert systems as they are a critical component of AI history and development. Expert systems are a type of AI that attempts to emulate the decision-making abilities of a human expert, which would have rounded out your definition of AI. Also, it might have been beneficial to briefly discuss the ethical considerations or challenges that AI poses, as these are increasingly important topics in the AI discourse.\n",
      "\n",
      "Overall, your response is clear, informed, and displays a strong grasp on the topic. Keep up the good work and continue exploring all subfields of AI to gain an even deeper understanding. Great job!\n"
     ]
    }
   ],
   "source": [
    "print(df.iloc[0][\"Notes\"])"
   ]
  },
  {
   "cell_type": "code",
   "execution_count": null,
   "metadata": {},
   "outputs": [],
   "source": []
  }
 ],
 "metadata": {
  "kernelspec": {
   "display_name": "base",
   "language": "python",
   "name": "python3"
  },
  "language_info": {
   "codemirror_mode": {
    "name": "ipython",
    "version": 3
   },
   "file_extension": ".py",
   "mimetype": "text/x-python",
   "name": "python",
   "nbconvert_exporter": "python",
   "pygments_lexer": "ipython3",
   "version": "3.9.7"
  },
  "orig_nbformat": 4
 },
 "nbformat": 4,
 "nbformat_minor": 2
}
