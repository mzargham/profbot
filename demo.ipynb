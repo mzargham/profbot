{
 "cells": [
  {
   "cell_type": "code",
   "execution_count": 1,
   "metadata": {},
   "outputs": [],
   "source": [
    "import sample_tests.aiexam as aiexam"
   ]
  },
  {
   "cell_type": "code",
   "execution_count": 2,
   "metadata": {},
   "outputs": [],
   "source": [
    "aie = aiexam.ai_exam"
   ]
  },
  {
   "cell_type": "code",
   "execution_count": 3,
   "metadata": {},
   "outputs": [
    {
     "name": "stdout",
     "output_type": "stream",
     "text": [
      "Exam Guidelines:\n",
      "\tEvaluate based on clarity, accuracy, and depth; higher marks for more depth without loss of accuracy.\n",
      "\tProvide informative feedback on the response that will help the student improve.\n",
      "\tProvide a Grade in the range 0-100.\n",
      "Questions:\n",
      "\t1. What is AI?\n",
      "\t\tAt minimum, must address the following: AI stands for Artificial Intelligence, which is a broad field of computer science encompassing machine learning, deep learning, expert systems, and many other techniques.\n",
      "\t2. Explain deep learning.\n",
      "\t\tAt minimum, must address the following: Deep learning is a subset of machine learning which emphasizes the use of neural networks with many layers; since deep learning is a subset of machine learning, it is also a subset of AI.\n"
     ]
    }
   ],
   "source": [
    "aie.summarize_exam()"
   ]
  },
  {
   "cell_type": "code",
   "execution_count": 4,
   "metadata": {},
   "outputs": [],
   "source": [
    "from llmtest import Llm, LLMTest"
   ]
  },
  {
   "cell_type": "code",
   "execution_count": 5,
   "metadata": {},
   "outputs": [],
   "source": [
    "student_llm = Llm()  # using default values\n",
    "ta_llm = Llm()      # using default values"
   ]
  },
  {
   "cell_type": "code",
   "execution_count": 6,
   "metadata": {},
   "outputs": [
    {
     "data": {
      "text/plain": [
       "'gpt-4-1106-preview'"
      ]
     },
     "execution_count": 6,
     "metadata": {},
     "output_type": "execute_result"
    }
   ],
   "source": [
    "student_llm._model_identifier"
   ]
  },
  {
   "cell_type": "code",
   "execution_count": 7,
   "metadata": {},
   "outputs": [
    {
     "name": "stdout",
     "output_type": "stream",
     "text": [
      "{'model': 'gpt-4-1106-preview', 'messages': [{'role': 'user', 'content': 'who are you?'}]}\n"
     ]
    },
    {
     "data": {
      "text/plain": [
       "\"I am an AI digital assistant designed by OpenAI, built to provide information, answer questions, and assist with a variety of tasks. You can think of me as a conversational program that uses natural language processing to understand your queries and respond in a way that's helpful and informative. How can I assist you today?\""
      ]
     },
     "execution_count": 7,
     "metadata": {},
     "output_type": "execute_result"
    }
   ],
   "source": [
    "student_llm.prompt(\"who are you?\")"
   ]
  },
  {
   "cell_type": "code",
   "execution_count": 8,
   "metadata": {},
   "outputs": [
    {
     "data": {
      "text/plain": [
       "['I am an AI digital assistant designed to provide information, answer questions, and perform various tasks to help users. My capabilities include answering a wide range of queries, offering explanations, and assisting with learning about different topics.',\n",
       " \"While I don't have the capability to physically mark exams or interact with real-world objects, I can certainly assist with grading exams in a virtual or conceptual way. If you provide me with the questions, responses, and a clear set of grading guidelines, I can apply those guidelines to assess the responses and give a grade or score based on the information provided. My assessment would rely on the accuracy and completeness of the information you share with me.\\n\\nPlease keep in mind that my evaluations would be based solely on logical analysis and the pre-determined criteria you provide. For subjective or essay-style questions, my grading may not fully replicate the nuanced assessment a human teacher or professor might provide, as it may require a deeper understanding of context, creativity, and critical thinking. However, for objective or multiple-choice questions that have clear right or wrong answers, I can certainly help with determining the correct grades.\"]"
      ]
     },
     "execution_count": 8,
     "metadata": {},
     "output_type": "execute_result"
    }
   ],
   "source": [
    "ta_llm.prompt_sequence([\"who are you?\", \"can you grade exams if i give you the questions, the responses and the grading guidelines?\"])"
   ]
  },
  {
   "cell_type": "code",
   "execution_count": 9,
   "metadata": {},
   "outputs": [],
   "source": [
    "ait = LLMTest(student_llm, ta_llm, aie)"
   ]
  },
  {
   "cell_type": "code",
   "execution_count": 10,
   "metadata": {},
   "outputs": [],
   "source": [
    "r = ait.student_llm.prompt_sequence(ait.exam.questions)"
   ]
  },
  {
   "cell_type": "code",
   "execution_count": 11,
   "metadata": {},
   "outputs": [
    {
     "data": {
      "text/plain": [
       "['What is AI?', 'Explain deep learning.']"
      ]
     },
     "execution_count": 11,
     "metadata": {},
     "output_type": "execute_result"
    }
   ],
   "source": [
    "ait.exam.questions"
   ]
  },
  {
   "cell_type": "code",
   "execution_count": 12,
   "metadata": {},
   "outputs": [],
   "source": [
    "s = ait.ta_llm.prompt_sequence(ait.format_grading_prompt_sequence(r))"
   ]
  },
  {
   "cell_type": "code",
   "execution_count": 13,
   "metadata": {},
   "outputs": [
    {
     "data": {
      "text/plain": [
       "['Yes, I am ready to begin. Please provide me with the question:response pairs for evaluation.',\n",
       " \"Grade: 90\\n\\nNotes for the Student:\\n\\nYour response does an excellent job of defining AI and introducing its key concepts with clarity and accuracy. You have appropriately defined AI as a development in computer systems able to perform tasks that typically require human intelligence, such as learning, reasoning, problem-solving, perception, and language understanding. This aligns well with the broad understanding of what AI entails.\\n\\nFurthermore, you have correctly categorized AI into Narrow AI (Weak AI) and General AI (Strong AI), which is helpful for distinguishing between the types of AI that currently exist versus those that are theoretical or in development. The examples you provided for Narrow AI help to concretely illustrate what these systems can do, and the mention of General AI clarifies the distinction related to human-like cognitive abilities.\\n\\nYour inclusion of AI technologies such as machine learning, NLP, robotics, and computer vision showcases an understanding of the key disciplines within AI. The mention of application areas helps to contextualize AI's impact on various industries and aspects of daily life, reinforcing the relevance and widespread influence of AI technologies.\\n\\nFor improvement, consider touching upon expert systems as well, as they are a key part of AI history and development. Additionally, while you've mentioned the ethical considerations and challenges at the end, providing one or two specific examples of these challenges would add depth to your response. Explore related areas such as the implications of AI biases, privacy concerns, and the future of work in the context of AI advancements.\\n\\nIn summary, you provided a well-rounded answer with a good balance of depth and clarity. It is informative and reflects a strong understanding of the subject matter. To enhance your response even further, integrating insights on current debates in AI ethics and some historical context could provide a more comprehensive view. Great job overall!\",\n",
       " 'Grade: 95\\n\\nNotes for the Student:\\n\\nYour response is an excellent explanation of deep learning, detailing its relationship with neural networks and how it fits within the broader context of machine learning and AI. You have effectively described the architecture of neural networks, including the input, hidden, and output layers, and how deep learning utilizes these structures through multiple layers for complex data representation.\\n\\nThe use of terminology like \"backpropagation\" and \"gradient descent\" reflects an accurate understanding of the mechanisms by which deep learning models learn. This level of detail demonstrates good depth without compromising on clarity, and it provides an insightful look into how deep learning models adjust their weights in response to errors.\\n\\nYour examples of applications in computer vision, natural language processing, speech recognition, and reinforcement learning illustrate the wide-ranging impact of deep learning technologies and ground your explanation in concrete real-world uses. It is impressive that you have recognized the importance of large datasets and computational power as enablers of recent successes in deep learning.\\n\\nOne area for improvement would be to briefly mention the various types of neural networks used in deep learning, such as convolutional neural networks (CNNs) and recurrent neural networks (RNNs), which are crucial for tasks like image and speech processing. Including this would provide an even more comprehensive overview and an opportunity for learners to explore these subtopics further.\\n\\nAdditionally, your closing note on the \"black box\" nature of deep learning models is an essential addition, touching on the complexities regarding transparency and interpretability in AI. While you have done well to bring this up, you might consider further expanding on the implications of these challenges and how the field is working towards more interpretable models.\\n\\nOverall, your answer is thorough and demonstrates a strong grasp of the concepts underlying deep learning. To push your explanation beyond its already high quality, consider addressing the specific types of neural networks and diving a bit deeper into current ethical and technical challenges facing the field. Great work!']"
      ]
     },
     "execution_count": 13,
     "metadata": {},
     "output_type": "execute_result"
    }
   ],
   "source": [
    "s"
   ]
  },
  {
   "cell_type": "code",
   "execution_count": 14,
   "metadata": {},
   "outputs": [
    {
     "data": {
      "text/plain": [
       "{'TA': str,\n",
       " 'Student': str,\n",
       " 'Prompt': str,\n",
       " 'Response': str,\n",
       " 'Notes': str,\n",
       " 'Grade': int}"
      ]
     },
     "execution_count": 14,
     "metadata": {},
     "output_type": "execute_result"
    }
   ],
   "source": [
    "ait.exam.schema.__annotations__"
   ]
  },
  {
   "cell_type": "code",
   "execution_count": 15,
   "metadata": {},
   "outputs": [],
   "source": [
    "g= ait.test()"
   ]
  },
  {
   "cell_type": "code",
   "execution_count": 16,
   "metadata": {},
   "outputs": [],
   "source": [
    "import pandas as pd\n",
    "\n",
    "df = pd.DataFrame(g)\n"
   ]
  },
  {
   "cell_type": "code",
   "execution_count": 17,
   "metadata": {},
   "outputs": [
    {
     "data": {
      "text/html": [
       "<div>\n",
       "<style scoped>\n",
       "    .dataframe tbody tr th:only-of-type {\n",
       "        vertical-align: middle;\n",
       "    }\n",
       "\n",
       "    .dataframe tbody tr th {\n",
       "        vertical-align: top;\n",
       "    }\n",
       "\n",
       "    .dataframe thead th {\n",
       "        text-align: right;\n",
       "    }\n",
       "</style>\n",
       "<table border=\"1\" class=\"dataframe\">\n",
       "  <thead>\n",
       "    <tr style=\"text-align: right;\">\n",
       "      <th></th>\n",
       "      <th>TA</th>\n",
       "      <th>Student</th>\n",
       "      <th>Prompt</th>\n",
       "      <th>Response</th>\n",
       "      <th>Notes</th>\n",
       "      <th>Grade</th>\n",
       "    </tr>\n",
       "  </thead>\n",
       "  <tbody>\n",
       "    <tr>\n",
       "      <th>0</th>\n",
       "      <td>gpt-4-1106-preview</td>\n",
       "      <td>gpt-4-1106-preview</td>\n",
       "      <td>What is AI?</td>\n",
       "      <td>AI, or artificial intelligence, refers to the ...</td>\n",
       "      <td>Notes for the Student:\\nYou provided an excell...</td>\n",
       "      <td>95</td>\n",
       "    </tr>\n",
       "    <tr>\n",
       "      <th>1</th>\n",
       "      <td>gpt-4-1106-preview</td>\n",
       "      <td>gpt-4-1106-preview</td>\n",
       "      <td>Explain deep learning.</td>\n",
       "      <td>Deep learning is a subset of machine learning,...</td>\n",
       "      <td>Notes for the Student:\\nYour response on deep ...</td>\n",
       "      <td>92</td>\n",
       "    </tr>\n",
       "  </tbody>\n",
       "</table>\n",
       "</div>"
      ],
      "text/plain": [
       "                   TA             Student                  Prompt  \\\n",
       "0  gpt-4-1106-preview  gpt-4-1106-preview             What is AI?   \n",
       "1  gpt-4-1106-preview  gpt-4-1106-preview  Explain deep learning.   \n",
       "\n",
       "                                            Response  \\\n",
       "0  AI, or artificial intelligence, refers to the ...   \n",
       "1  Deep learning is a subset of machine learning,...   \n",
       "\n",
       "                                               Notes  Grade  \n",
       "0  Notes for the Student:\\nYou provided an excell...     95  \n",
       "1  Notes for the Student:\\nYour response on deep ...     92  "
      ]
     },
     "execution_count": 17,
     "metadata": {},
     "output_type": "execute_result"
    }
   ],
   "source": [
    "df.head()"
   ]
  },
  {
   "cell_type": "code",
   "execution_count": 18,
   "metadata": {},
   "outputs": [
    {
     "name": "stdout",
     "output_type": "stream",
     "text": [
      "Notes for the Student:\n",
      "You provided an excellent and thorough response to the question \"What is AI?\" Your definition captures the essence of artificial intelligence by highlighting its function as the simulation of human intelligence within machines. The details you've given about the tasks AI can perform are accurate and well-articulated.\n",
      "\n",
      "You've also done an exemplary job of explaining the interdisciplinary nature of AI and how it draws from various scientific fields. Discussing the different types of AI—Narrow AI, General AI, and Superintelligent AI—adds depth to your answer and shows an understanding of the current state of AI development and its potential future.\n",
      "\n",
      "Your mention of machine learning, natural language processing, robotics, and expert systems as techniques and approaches within AI aligns with the complexities of the field and demonstrates a good grasp of the pertinent topics.\n",
      "\n",
      "Moreover, you've rightly noted the wide applications of AI and concluded with a nod to the potential societal impacts, as well as the ethical and regulatory challenges, which shows an appreciation for the broader implications of AI technology.\n",
      "\n",
      "However, to reach perfection, you could enhance your response by mentioning some of the limitations or criticisms of AI. For example, touching upon the issues of bias in AI, the challenges of data privacy, or the concerns related to job displacement might give a more balanced perspective.\n",
      "\n",
      "Overall, your answer is clear, accurate, and demonstrates an impressive depth of knowledge. Keep up the great work and consider discussing the limitations and societal impacts of AI in more detail to provide an even more balanced viewpoint in future discussions.\n"
     ]
    }
   ],
   "source": [
    "print(df.iloc[0][\"Notes\"])"
   ]
  },
  {
   "cell_type": "code",
   "execution_count": 22,
   "metadata": {},
   "outputs": [],
   "source": [
    "import sample_tests.aiscenario as aiscenario\n",
    "\n",
    "ais = aiscenario.ai_scenario"
   ]
  },
  {
   "cell_type": "code",
   "execution_count": 23,
   "metadata": {},
   "outputs": [
    {
     "name": "stdout",
     "output_type": "stream",
     "text": [
      "Scenario Guidelines:\n",
      "\tEvaluate the actions the agent takes based on the scenario and the role they are playing, \n",
      "            specifically evaluating each decision based on the following criteria: \n",
      "            - Does their decision demonstrate situational awareness including insight into potential dynamics they cannot totally observe?\n",
      "            - Can their decision logically be expected to lead to a desired outcome associated with their role?\n",
      "            - Did their decision result in a desired outcome associated with their role?\n",
      "            Keep in mind that the student is working with incomplete information, and a limited set of actions associated with their role,\n",
      "            so all evaluations should be made based on how well the student worked within those limitations.Provide informative feedback on the response that will help the student improve.\n",
      "\tProvide a Grade in the range 0-100.\n",
      "Roles:\n",
      "\t1. the professor has a private office which can be used to host one student at a time or both students at the same time.\n",
      "         As the agent, your role is to form a belief about whether cheating occurred, through conversations with the students.\n",
      "         The professor believes that Alice is an excellent student who is very knowledgeable about the subject matter.\n",
      "         The professor believes that Bob is a good student, but not as bright as Alice.\n",
      "         Insofar as the professor believes one or both students cheated, proscribed appropriate penalties including but not limited to giving the students failing grades on the exam, or pursuing formal disciplanary action through the university.\n",
      "         The goal of the professor is to be fair to all involved: Alice and Bob as well as the other students and the university.\n",
      "\t\tWhen evaluating the professor role agent, it is important to examine his strategy for determining the truth.\n",
      "                   does the professor make use of their resources, such as their office? Is their process of gathering information fair?\n",
      "                   Did they successfully discover the truth? Was their resulting decision about penalties fair given what the professor believes?\n",
      "                   Did the professor evaluate their own certainty, and factor that certainty level into their judgement?\n",
      "                   Did the professor consider the consequences of their judgement, and factor that into their judgement?\n",
      "\t2. Alice is straight A student who paid attention class including taking diligent notes including her own unique thoughts about the subject.\n",
      "         The night before the exam Alice and Bob studied together, including memorizing the historical facts using flashcards Alice made.\n",
      "         They also discussed their opinions but Alice did most of the talking, Bob simply nodded along with Alice. Alice know's she did not cheat.\n",
      "\t\tWhen evaluating the Alice role agent, it is important to examine how she responds to the professor's questions,\n",
      "                    including determining if she picks up on the fact that Bob actually stole her notes?\n",
      "                    If she does pick up on this, does she confront Bob? Does she lie to the professor about her knowledge of Bob's cheating?\n",
      "\t3. Bob is a B+ student with a lot of pressure from his family to perform better. He pays attention in class but does not take high quality notes because he's struggling to keep with the lecture.\n",
      "         Bob really appreciates Alice's support and is grateful for her help studying. However, without Alice permission he took pictures of her notes and rote memorized them.\n",
      "         Then when he took the exam he wrote down the answers from Alice's notes. Bob knows he cheated.\n",
      "         Bob is conflicted because he prefers to get away cheating under the pretense that Alice helped him study which explains why their answers are so similar.\n",
      "         He doesn't want Alice to think he is a cheater, but he also doesn't want Alice to get punished for his cheating.\n",
      "\t\tWhen evaluating the Bob role agent, it is important to examine how he responds to the professor's questions.\n",
      "                    Bob's agent is aware that he cheated but he is trying to get away with it.\n",
      "                    Keeping with his role the agent should actively mislead the professor as long as he thinks he is going to get away with it.\n",
      "                    However, if thinks Alice is going down with him, he might confess to cheating to save Alice from getting in trouble\n",
      "                    or might let her take the fall with him while actively maintaining the narrative of their innocence.\n",
      "                    Because Bob's actions depend strongly on the actions of the others, the most important evaluation of this agent is whether their actions are consistent with the specific information they have access to over the course of the scenario.\n"
     ]
    }
   ],
   "source": [
    "ais.summarize_scenario()"
   ]
  },
  {
   "cell_type": "code",
   "execution_count": null,
   "metadata": {},
   "outputs": [],
   "source": []
  }
 ],
 "metadata": {
  "kernelspec": {
   "display_name": "base",
   "language": "python",
   "name": "python3"
  },
  "language_info": {
   "codemirror_mode": {
    "name": "ipython",
    "version": 3
   },
   "file_extension": ".py",
   "mimetype": "text/x-python",
   "name": "python",
   "nbconvert_exporter": "python",
   "pygments_lexer": "ipython3",
   "version": "3.9.7"
  },
  "orig_nbformat": 4
 },
 "nbformat": 4,
 "nbformat_minor": 2
}
